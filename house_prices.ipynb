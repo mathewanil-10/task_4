{
 "cells": [
  {
   "cell_type": "code",
   "execution_count": null,
   "id": "a6724f30-ee2f-41ab-9248-2bfe3fa76f34",
   "metadata": {},
   "outputs": [],
   "source": [
    "import numpy as np\n",
    "import pandas as pd\n",
    "from sklearn.preprocessing import StandardScaler\n",
    "from sklearn.model_selection import train_test_split\n",
    "from sklearn.linear_model import LinearRegression\n",
    "from sklearn.metrics import mean_squared_error, r2_score\n",
    "file_path = r\"C:\\Users\\LENOVO\\Downloads\\New folder\\house_prices.csv\"\n",
    "df = pd.read_csv(file_path)\n",
    "if df.isnull().sum().sum() > 0:\n",
    "    df['Size'].fillna(df['Size'].mean(), inplace=True)\n",
    "    df['Number of Rooms'].fillna(df['Number of Rooms'].mean(), inplace=True)\n",
    "    df['Location'].fillna(df['Location'].mode()[0], inplace=True)\n",
    "\n",
    "df = pd.get_dummies(df, columns=['Location'], drop_first=True)\n",
    "\n",
    "scaler = StandardScaler()\n",
    "df[['Size', 'Number of Rooms']] = scaler.fit_transform(\n",
    "    df[['Size', 'Number of Rooms']]\n",
    ")\n",
    "\n",
    "X = df.copy()\n",
    "X = X.drop(['Price'], axis=1)\n",
    "y = df['Price']\n",
    "\n",
    "X_train, X_test, y_train, y_test = train_test_split(\n",
    "    X, y, test_size=0.20, random_state=42\n",
    ")\n",
    "\n",
    "model = LinearRegression()\n",
    "model.fit(X_train, y_train)\n",
    "\n",
    "y_pred = model.predict(X_test)\n",
    "\n",
    "rmse = np.sqrt(mean_squared_error(y_test, y_pred))\n",
    "r2 = r2_score(y_test, y_pred)\n",
    "\n",
    "print(f\"RMSE: {rmse}\")\n",
    "print(f\"R^2 Score: {r2}\")\n"
   ]
  }
 ],
 "metadata": {
  "kernelspec": {
   "display_name": "Python [conda env:base] *",
   "language": "python",
   "name": "conda-base-py"
  },
  "language_info": {
   "codemirror_mode": {
    "name": "ipython",
    "version": 3
   },
   "file_extension": ".py",
   "mimetype": "text/x-python",
   "name": "python",
   "nbconvert_exporter": "python",
   "pygments_lexer": "ipython3",
   "version": "3.12.7"
  }
 },
 "nbformat": 4,
 "nbformat_minor": 5
}
